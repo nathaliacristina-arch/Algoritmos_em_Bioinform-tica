{
  "nbformat": 4,
  "nbformat_minor": 0,
  "metadata": {
    "colab": {
      "provenance": [],
      "toc_visible": true,
      "include_colab_link": true
    },
    "kernelspec": {
      "name": "python3",
      "display_name": "Python 3"
    },
    "accelerator": "GPU"
  },
  "cells": [
    {
      "cell_type": "markdown",
      "metadata": {
        "id": "view-in-github",
        "colab_type": "text"
      },
      "source": [
        "<a href=\"https://colab.research.google.com/github/nathaliacristina-arch/Algoritmos_em_Bioinform-tica/blob/main/Atividade_1.ipynb\" target=\"_parent\"><img src=\"https://colab.research.google.com/assets/colab-badge.svg\" alt=\"Open In Colab\"/></a>"
      ]
    },
    {
      "cell_type": "code",
      "source": [
        "# Objetivo:\n",
        "# - Ler arquivo no formato \"FASTA\" com várias sequências de DNA\n",
        "# - realizar cálculos com informações da sequências de DNA da influenza\n",
        "# -  colocar os dados calculados em gráfico.\n",
        "\n",
        "\n",
        "# Problema: dado um arquivo no formato \"FASTA\" com diversas sequências de DNA (Influenza H3N2). Um arquivo FASTA pode ter mais de uma sequência. Até o momento trabalhamos com arquivos fasta com 1 única sequência.\n",
        "\n",
        "\n",
        "# Comparação entre vários formatos de armazenar  seq.: https://bioinformatics.uconn.edu/resources-and-events/tutorials-2/file-formats-tutorial/\n",
        "\n",
        "# Faça um programa que leia todos as sequências do arquivo fasta Influenza H3N2 e calcule :\n",
        "# 1) Número total de nucleotídeos  e de A, T C e G de cada sequência;\n",
        "\n",
        "\n",
        "# 2) Conteúdo GC para cada sequência.\n",
        "\n",
        "\n",
        "# 3) Calcular o temperatura de anelamento (melting) do DNA (DNA melting temperature), para cada gene (sequência), utilizando a conteúdo GC e [Na+] = 100 mM."
      ],
      "metadata": {
        "id": "RKfzlhX-O6rV"
      },
      "execution_count": null,
      "outputs": []
    },
    {
      "cell_type": "code",
      "source": [
        "!pip install biopython\n",
        "\n",
        "\n",
        "from Bio import SeqIO\n",
        "from Bio.SeqUtils import GC\n",
        "from Bio.SeqUtils.MeltingTemp import Tm_NN\n",
        "\n",
        "with open(\"Influenza H3N2.fasta\", \"r\") as handle:\n",
        "    records = list(SeqIO.parse(handle, \"fasta\")) #abre o arquivo e le\n",
        "\n",
        "numero_nucleotidios = []\n",
        "cont_A = []\n",
        "cont_T = []\n",
        "cont_C = []\n",
        "cont_G = []\n",
        "gc_content = []\n",
        "tm_values = []\n",
        "\n",
        "for record in records:\n",
        "    seq = record.seq\n",
        "    numero_nucleotidios.append(len(seq))\n",
        "    cont_A.append(seq.count('A'))\n",
        "    cont_T.append(seq.count('T'))\n",
        "    cont_C.append(seq.count('C'))\n",
        "    cont_G.append(seq.count('G'))\n",
        "    gc_content.append(GC(seq))\n",
        "    tm_values.append(Tm_NN(seq,Na=0.1, K=0, Tris=0, Mg=0, dNTPs=0, saltcorr=7))\n",
        "\n",
        "#transfere os resultados em arquivo texto\n",
        "with open(\"results.txt\", \"w\") as handle:\n",
        "    for i in range(len(records)):\n",
        "        handle.write(f\"Sequence {i+1}:\\n\")\n",
        "        handle.write(f\"Number of nucleotides: {num_nucleotidios[i]}\\n\")\n",
        "        handle.write(f\"Number of A's: {cont_A[i]}\\n\")\n",
        "        handle.write(f\"Number of T's: {cont_T[i]}\\n\")\n",
        "        handle.write(f\"Number of C's: {cont_C[i]}\\n\")\n",
        "        handle.write(f\"Number of G's: {cont_G[i]}\\n\")\n",
        "        handle.write(f\"GC content: {gc_content[i]:.2f}%\\n\")\n",
        "        handle.write(f\"Temperatura de anelamento: {tm_values[i]:.2f}°C\\n\")\n",
        "        handle.write(\"\\n\")\n",
        "\n",
        "#  gráfico\n",
        "import matplotlib.pyplot as plt\n",
        "\n",
        "\n",
        "plt.scatter(gc_content, tm_values)\n",
        "plt.xlabel(\"GC content (%)\")\n",
        "plt.ylabel(\"Temperatura de anelamento (°C)\")\n",
        "plt.show()\n"
      ],
      "metadata": {
        "colab": {
          "base_uri": "https://localhost:8080/",
          "height": 386
        },
        "id": "tjnUSdV3ZeST",
        "outputId": "4097a606-405b-4000-dcda-ca2723c3f62e"
      },
      "execution_count": null,
      "outputs": [
        {
          "output_type": "stream",
          "name": "stdout",
          "text": [
            "Looking in indexes: https://pypi.org/simple, https://us-python.pkg.dev/colab-wheels/public/simple/\n",
            "Requirement already satisfied: biopython in /usr/local/lib/python3.9/dist-packages (1.81)\n",
            "Requirement already satisfied: numpy in /usr/local/lib/python3.9/dist-packages (from biopython) (1.22.4)\n"
          ]
        },
        {
          "output_type": "stream",
          "name": "stderr",
          "text": [
            "/usr/local/lib/python3.9/dist-packages/Bio/SeqUtils/__init__.py:144: BiopythonDeprecationWarning: GC is deprecated; please use gc_fraction instead.\n",
            "  warnings.warn(\n"
          ]
        },
        {
          "output_type": "display_data",
          "data": {
            "text/plain": [
              "<Figure size 432x288 with 1 Axes>"
            ],
            "image/png": "[encoded data removed]"
          },
          "metadata": {
            "needs_background": "light"
          }
        }
      ]
    }
  ]
}