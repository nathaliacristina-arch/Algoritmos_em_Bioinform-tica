{
  "cells": [
    {
      "cell_type": "markdown",
      "metadata": {
        "id": "view-in-github",
        "colab_type": "text"
      },
      "source": [
        "<a href=\"https://colab.research.google.com/github/nathaliacristina-arch/Algoritmos_em_Bioinform-tica/blob/main/Atividade_1.ipynb\" target=\"_parent\"><img src=\"https://colab.research.google.com/assets/colab-badge.svg\" alt=\"Open In Colab\"/></a>"
      ]
    },
    {
      "cell_type": "code",
      "source": [
        "# Problema:\n",
        "# Uma string  é simplesmente uma coleção de símbolos selecionados de um alfabeto e transformado numa palavra. O comprimento da string é o número de símbolos que ela contém.\n",
        "# Um exemplo de string DNA com comprimento 18 cujo alfabeto contêm os símbolos  'A', 'C', 'G', 'T') ié\"ATGCTTCAGAAAGGTCTT.\"\n",
        "# Dado:\n",
        "# String: AGCTTTTCATTCTGACTGCAACGGGCAATATGTCTCTGTGTGGATTAAAAAAAGAGTGTCTGATAGCAGC\n",
        "# Conte no. de A, T, C e G e total.\n",
        "\n",
        "# String: AGCTTTTCATTCTGACTGCAACGGGCAATATGTCTCTGTGTGGATTAAAAAAAGAGTGTCTGATAGCAGC\n",
        "# Submeta:\n",
        "# A) Algoritmo\n",
        "# B) Programa/Código Python\n",
        "# C) Submeta o arquivo o noebook col algoritmo, código e resultado.\n",
        "\n",
        "# Resultado:\n",
        "# AGCTTTTCATTCTGACTGCAACGGGCAATATGTCTCTGTGTGGATTAAAAAAAGAGTGTCTGATAGCAGC\n",
        "# Solução:\n",
        "# A: 20\n",
        "# C: 12\n",
        "# G: 17\n",
        "# T: 21\n",
        "# Total: 70 nucleotídeos"
      ],
      "metadata": {
        "id": "I5AQHO-2ca46"
      },
      "execution_count": null,
      "outputs": []
    },
    {
      "cell_type": "code",
      "source": [
        "contA=0\n",
        "contC=0\n",
        "contG=0\n",
        "contT=0\n",
        "seq=seq= \"AGCTTTTCATTCTGACTGCAACGGGCAATATGTCTCTGTGTGGATTAAAAAAAGAGTGTCTGATAGCAGC\"\n",
        "\n",
        "\n",
        "\n",
        "for i in range(len(seq)):\n",
        "    if seq[i] == 'A':\n",
        "        contA = contA + 1\n",
        "    if seq[i] == 'C':\n",
        "        contC  += 1\n",
        "    if seq[i] == 'G':\n",
        "        contG  += 1\n",
        "    if seq[i] == 'T':\n",
        "        contT += 1\n",
        "\n",
        "print ('Resultado: ' , seq)\n",
        "print ('A: ', contA)\n",
        "print ('C: ', contC)\n",
        "print ('G: ', contG)\n",
        "print ('T: ', contT)\n",
        "print (\"total: \" , contA+contC+contT+contG )\n",
        "\n"
      ],
      "metadata": {
        "id": "Cq1Te9NUcdXd",
        "outputId": "a10185c0-debc-4f69-dec3-ab02d49716ce",
        "colab": {
          "base_uri": "https://localhost:8080/"
        }
      },
      "execution_count": 9,
      "outputs": [
        {
          "output_type": "stream",
          "name": "stdout",
          "text": [
            "Resultado:  AGCTTTTCATTCTGACTGCAACGGGCAATATGTCTCTGTGTGGATTAAAAAAAGAGTGTCTGATAGCAGC\n",
            "A:  20\n",
            "C:  12\n",
            "G:  17\n",
            "T:  21\n",
            "total:  70\n"
          ]
        }
      ]
    }
  ],
  "metadata": {
    "colab": {
      "name": "Olá, este é o Colaboratory",
      "toc_visible": true,
      "provenance": [],
      "include_colab_link": true
    },
    "kernelspec": {
      "display_name": "Python 3",
      "name": "python3"
    }
  },
  "nbformat": 4,
  "nbformat_minor": 0
}