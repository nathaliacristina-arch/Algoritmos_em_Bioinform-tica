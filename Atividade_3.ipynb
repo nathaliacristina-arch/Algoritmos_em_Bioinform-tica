{
  "nbformat": 4,
  "nbformat_minor": 0,
  "metadata": {
    "colab": {
      "provenance": [],
      "include_colab_link": true
    },
    "kernelspec": {
      "name": "python3",
      "display_name": "Python 3"
    },
    "accelerator": "GPU"
  },
  "cells": [
    {
      "cell_type": "markdown",
      "metadata": {
        "id": "view-in-github",
        "colab_type": "text"
      },
      "source": [
        "<a href=\"https://colab.research.google.com/github/nathaliacristina-arch/Algoritmos_em_Bioinform-tica/blob/main/Atividade_3.ipynb\" target=\"_parent\"><img src=\"https://colab.research.google.com/assets/colab-badge.svg\" alt=\"Open In Colab\"/></a>"
      ]
    },
    {
      "cell_type": "code",
      "source": [
        "# Problema:\n",
        "\n",
        "# Pegue um dos 8 segmentos da Influenza H3N2 e converta para RNA. Salve a sequência de RNA em arquivo no formato fasta, acrescentando no cabeçalho que a sequência foi convertida para RNA. Pegue a sequência convertida para RNA e faça a tradução para sequência de Amino-ácidos proteína na codificação de 1 letra - somente do 1o. frame.\n",
        "\n",
        "# Envie:\n",
        "# 1 - Algoritmo\n",
        "# Parte 1 -  uma sequência da H3N2 (sem utilizar as funções transcribe() e translate())\n",
        "# 2 - Código para transcrever um segmento em RNA e Aminoácido. Gravar ambos os aquivos em formato fasta.\n",
        "# 3 - Arquivos fasta com sequência de RNA e   Amino-ácidos/Proteína - somente 1o. frame\n",
        "\n",
        "# Parte 2 - Todas as sequências H3N2\n",
        "# 4 - Código utilizando as funções transcribe() e translate(). Aplicar para o Genoma todos\n",
        "# 5 - Arquivo no formato fasta com sequências de RNA de todos os segmentos. Comentar nos cabeçalhos que são transcrito para RNA.\n",
        "\n",
        "# 6 (alterado em 11/04/2023) -  Arquivos no formato fasta com as sequências de Aminoácidos/Protein traduzidas para os 6 frames. Enviar 6 arquivos, cada um com as sequências de Aminoácidos/Proteínas para cada um dos frames de tradução. Não parar a tradução no codon de stop. Converta toda a sequência dos segmentos para Aminoácidos. Não se preocupem em identificar regiões dos segmentos que são potencialmente codificadores de proteína (região entre códon iniciador e terminador).\n",
        "\n",
        "# Parte 3\n",
        "# 7 -Descrever e discutir a diferença entre o uso das funções de transcrIBE e translate na análise das sequências no genoma da H3N2"
      ],
      "metadata": {
        "id": "Om6ZjgJRVikU"
      },
      "execution_count": null,
      "outputs": []
    },
    {
      "cell_type": "code",
      "source": [
        "# abrindo o arquivo fasta e lendo a sequência de nucleotídeos\n",
        "with open(\"Influenza H3N2 (1).fasta\") as f:\n",
        "    lines = f.readlines()\n",
        "\n",
        "# criando uma string com a sequência de nucleotídeos\n",
        "seq_nucleotideos = ''.join(lines[1:]).replace('\\n', '')\n",
        "\n",
        "# convertendo a sequência de nucleotídeos para RNA\n",
        "seq_rna = seq_nucleotideos.replace('T', 'U')\n",
        "\n",
        "# função para traduzir um códon em um aminoácido\n",
        "def traduzir_codon(codon):\n",
        "    tabela_codons = {\n",
        "        'UUU': 'F', 'UUC': 'F', 'UUA': 'L', 'UUG': 'L',\n",
        "        'UCU': 'S', 'UCC': 'S', 'UCA': 'S', 'UCG': 'S',\n",
        "        'UAU': 'Y', 'UAC': 'Y', 'UAA': '*', 'UAG': '*',\n",
        "        'UGU': 'C', 'UGC': 'C', 'UGA': '*', 'UGG': 'W',\n",
        "        'CUU': 'L', 'CUC': 'L', 'CUA': 'L', 'CUG': 'L',\n",
        "        'CCU': 'P', 'CCC': 'P', 'CCA': 'P', 'CCG': 'P',\n",
        "        'CAU': 'H', 'CAC': 'H', 'CAA': 'Q', 'CAG': 'Q',\n",
        "        'CGU': 'R', 'CGC': 'R', 'CGA': 'R', 'CGG': 'R',\n",
        "        'AUU': 'I', 'AUC': 'I', 'AUA': 'I', 'AUG': 'M',\n",
        "        'ACU': 'T', 'ACC': 'T', 'ACA': 'T', 'ACG': 'T',\n",
        "        'AAU': 'N', 'AAC': 'N', 'AAA': 'K', 'AAG': 'K',\n",
        "        'AGU': 'S', 'AGC': 'S', 'AGA': 'R', 'AGG': 'R',\n",
        "        'GUU': 'V', 'GUC': 'V', 'GUA': 'V', 'GUG': 'V',\n",
        "        'GCU': 'A', 'GCC': 'A', 'GCA': 'A', 'GCG': 'A',\n",
        "        'GAU': 'D', 'GAC': 'D', 'GAA': 'E', 'GAG': 'E',\n",
        "        'GGU': 'G', 'GGC': 'G', 'GGA': 'G', 'GGG': 'G'\n",
        "    }\n",
        "    return tabela_codons[codon]\n",
        "\n",
        "# função para traduzir a sequência de RNA em uma sequência de aminoácidos\n",
        "def traduzir_rna(seq_rna):\n",
        "    seq_amino = ''\n",
        "    for i in range(0, len(seq_rna)-2, 3):\n",
        "        codon = seq_rna[i:i+3]\n",
        "        seq_am\n"
      ],
      "metadata": {
        "id": "THHMowWdZQld"
      },
      "execution_count": null,
      "outputs": []
    },
    {
      "cell_type": "code",
      "source": [
        "\n"
      ],
      "metadata": {
        "colab": {
          "base_uri": "https://localhost:8080/",
          "height": 135
        },
        "id": "mvET-k5CTgYK",
        "outputId": "e436362b-554a-4cb9-c0c5-fde7d642ea1e"
      },
      "execution_count": null,
      "outputs": [
        {
          "output_type": "error",
          "ename": "IndentationError",
          "evalue": "ignored",
          "traceback": [
            "\u001b[0;36m  File \u001b[0;32m\"<ipython-input-1-fb057c370172>\"\u001b[0;36m, line \u001b[0;32m2\u001b[0m\n\u001b[0;31m    records = list(SeqIO.parse(handle, \"fasta\")) #abre o arquivo e le\u001b[0m\n\u001b[0m    ^\u001b[0m\n\u001b[0;31mIndentationError\u001b[0m\u001b[0;31m:\u001b[0m unexpected indent\n"
          ]
        }
      ]
    }
  ]
}