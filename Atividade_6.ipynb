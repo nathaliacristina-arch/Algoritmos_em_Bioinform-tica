{
  "nbformat": 4,
  "nbformat_minor": 0,
  "metadata": {
    "colab": {
      "provenance": [],
      "include_colab_link": true
    },
    "kernelspec": {
      "name": "python3",
      "display_name": "Python 3"
    },
    "accelerator": "GPU"
  },
  "cells": [
    {
      "cell_type": "markdown",
      "metadata": {
        "id": "view-in-github",
        "colab_type": "text"
      },
      "source": [
        "<a href=\"https://colab.research.google.com/github/nathaliacristina-arch/Algoritmos_em_Bioinform-tica/blob/main/Atividade_6.ipynb\" target=\"_parent\"><img src=\"https://colab.research.google.com/assets/colab-badge.svg\" alt=\"Open In Colab\"/></a>"
      ]
    },
    {
      "cell_type": "code",
      "source": [
        "# Montagem de Genoma/Algoritmo guloso\n",
        "# Objetivo: montar sequência Contig a partir de reads\n",
        "# Aprendizado> Algoritmos gulosos, alinhamento, sequenciamento de DNA, reads e Contig\n",
        "\n",
        "# Algoritmos gulosos (Greedy Algorithms) são utilizados para a montagem de Genomas (Genoma Assembly) após o sequenciamento de fragmentos de DNA de um cromossomo. O primeiro passo do sequenciamento de genoma é fragmentar o cromossomo, depois amplificar os fragmentos utilizando PCR e sequenciar os fragmentos. Os fragmentos sequenciados são chamados de \"reads\". Comparando as sequências dos reads, encontram-se região que se sobrepõe, essas regiões sobrepostas são fundidas/montadas na sequência final chamada de \"contig\".\n",
        "\n",
        "# Tarefa: a partir de 4 sequências curtas de DNA sequenciado, arquivo \"reads.fasta\" , faça um código que monte o Contig correspondente. Salve o contig em arquivo no formato FASTA. Exemplo de nome: contig.fasta.  Veja vídeo com instruções, explicando a atividade\n",
        "\n",
        "\n",
        "# Arquivo fasta com sequências de DNA - as reads\n",
        "# Vídeo explicando como montar genoma. Ver como a partir dos reads monta um contig\n",
        "\n",
        "# Enviar:\n",
        "# 1 - código que monta o contig a partir dos reads\n",
        "# 2 - arquivo no formato fasta com a sequência do contig."
      ],
      "metadata": {
        "id": "Pz2iuOG6U-U-"
      },
      "execution_count": null,
      "outputs": []
    },
    {
      "cell_type": "code",
      "source": [
        "\n",
        "!pip install biopython\n",
        "\n",
        "from Bio.Seq import Seq\n",
        "from Bio.SeqRecord import SeqRecord\n",
        "from Bio import SeqIO\n",
        "\n",
        "# Carregar as sequências curtas a partir do arquivo FASTA\n",
        "reads_file = \"reads4.fasta\"\n",
        "reads = list(SeqIO.parse(reads_file, \"fasta\"))\n",
        "\n",
        "# Organizar as sequências curtas pelo tamanho decrescente\n",
        "reads.sort(key=lambda x: len(x.seq), reverse=True)\n",
        "\n",
        "# Montar o Contig\n",
        "contig_seq = reads[0].seq\n",
        "for read in reads[1:]:\n",
        "    read_seq = read.seq\n",
        "    overlap = contig_seq.find(read_seq[:len(read_seq) // 2])\n",
        "    contig_seq = contig_seq[:overlap] + read_seq\n",
        "\n",
        "# Criar objeto SeqRecord para o Contig\n",
        "contig_record = SeqRecord(Seq(contig_seq), id=\"Contig\", description=\"Contig montado a partir de sequências curtas\")\n",
        "\n",
        "# Salvar o Contig em um arquivo FASTA\n",
        "contig_file = \"contig.fasta\"\n",
        "SeqIO.write(contig_record, contig_file, \"fasta\")\n",
        "\n",
        "print(\"Contig salvo com sucesso no arquivo contig.fasta.\")\n"
      ],
      "metadata": {
        "id": "NLEXZF-y5nVG",
        "outputId": "a213bfaf-9a47-40cd-f1e8-859fcb809d7a",
        "colab": {
          "base_uri": "https://localhost:8080/"
        }
      },
      "execution_count": null,
      "outputs": [
        {
          "output_type": "stream",
          "name": "stdout",
          "text": [
            "Looking in indexes: https://pypi.org/simple, https://us-python.pkg.dev/colab-wheels/public/simple/\n",
            "Requirement already satisfied: biopython in /usr/local/lib/python3.10/dist-packages (1.81)\n",
            "Requirement already satisfied: numpy in /usr/local/lib/python3.10/dist-packages (from biopython) (1.22.4)\n",
            "Contig salvo com sucesso no arquivo contig.fasta.\n"
          ]
        }
      ]
    }
  ]
}