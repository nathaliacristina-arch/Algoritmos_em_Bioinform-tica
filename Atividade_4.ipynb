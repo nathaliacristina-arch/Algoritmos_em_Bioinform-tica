{
  "cells": [
    {
      "cell_type": "markdown",
      "metadata": {
        "id": "view-in-github",
        "colab_type": "text"
      },
      "source": [
        "<a href=\"https://colab.research.google.com/github/nathaliacristina-arch/Algoritmos_em_Bioinform-tica/blob/main/Atividade_4.ipynb\" target=\"_parent\"><img src=\"https://colab.research.google.com/assets/colab-badge.svg\" alt=\"Open In Colab\"/></a>"
      ]
    },
    {
      "cell_type": "code",
      "source": [
        "# Identificar regiões do genoma da H3N2 que potencialmente codificam proteínas. Analisar e identificar em cada segmento e em cada frame da sequência traduzida do genoma da H3N2 e gravar num único arquivo fasta.\n",
        "\n",
        "# Enviar:\n",
        "\n",
        "# 1- Código\n",
        "\n",
        "# 2 - Um único arquivo fasta com todos as potenciais sequências que codificam proteínas identificando o segmento, frame e o número da sequência dentro do segmento.\n",
        "\n",
        "# Ex. de arquivo fasta do inte 2:\n",
        "\n",
        "# >H3N2, Frame 1, segmento 1, proteína 1\n",
        "\n",
        "# MSDHEGG.............................................................*\n",
        "\n",
        "# >H3N2, Frame 1, segmento 1, proteína 2\n",
        "\n",
        "# MYGDHSJKK..............*\n",
        "\n",
        "# >H3N2, Frame 1, segmento 1, proteína 3\n",
        "\n",
        "# MVFFSSS.............*\n",
        "\n",
        "# .\n",
        "# .\n",
        "# >H3N2, Frame 3, segmento 7, proteína 7\n",
        "\n",
        "# MGHHHHDGDBGYYYYYDTDYY...............................................*\n",
        "\n",
        "# .\n",
        "# .\n",
        "# .\n",
        "# >H3N2, Frame 6, segmento 8, proteína 13\n",
        "\n",
        "# MHDYSGDTEBFHUSGDHSUUD...............................\n",
        "\n",
        "# .........................................................................................*\n",
        "\n",
        "# MYGDHSJKK..............*\n",
        "\n"
      ],
      "metadata": {
        "id": "8u1B2jjZTiCX"
      },
      "execution_count": null,
      "outputs": []
    },
    {
      "cell_type": "code",
      "source": [
        "!pip install biopython\n",
        "from Bio import SeqIO\n",
        "from Bio.Seq import Seq\n",
        "#from Bio.Alphabet import IUPAC\n",
        "from Bio.SeqUtils import six_frame_translations\n",
        "\n",
        "# Abrir o arquivo fasta contendo a sequência do genoma da Influenza H3N2\n",
        "file_path = \"Influenza H3N2 (1) (1).fasta\"\n",
        "for record in SeqIO.parse(file_path, \"fasta\"):\n",
        "    sequence = str(record.seq)\n",
        "\n",
        "# lê o arquivo FASTA\n",
        "records = SeqIO.parse(file_path, \"fasta\")\n",
        "\n",
        "# cria um dicionário para armazenar as traduções\n",
        "translations = {}\n",
        "\n",
        "# percorre os registros\n",
        "for record in records:\n",
        "    # obtém a sequência do registro como uma string\n",
        "    sequence = str(record.seq)\n",
        "\n",
        "    # cria um objeto Seq a partir da sequência de DNA\n",
        "    dna_seq = Seq(sequence)\n",
        "\n",
        "    # cria uma lista com todas as possíveis traduções\n",
        "    for strand, nuc in [(+1, dna_seq), (-1, dna_seq.reverse_complement())]:\n",
        "        for frame in range(3):\n",
        "            translation = str(nuc[frame:].translate())\n",
        "            translations[(strand, frame)] = translation\n",
        "\n",
        "# escreve as regiões codificadoras em um arquivo FASTA\n",
        "with open(file_path, \"w\") as output_file:\n",
        "    seq_num = 1\n",
        "    for segment in range(1, 9):\n",
        "        for frame in range(3):\n",
        "            protein_num = 1\n",
        "            for translation in translations[(+1, frame)].split(\"*\"):\n",
        "                if len(translation) >= 30:\n",
        "                    output_file.write(f\">H3N2, Frame {frame + 1}, segmento {segment}, proteína {protein_num}\\n\")\n",
        "                    output_file.write(f\"{translation}*\\n\")\n",
        "                    protein_num += 1\n",
        "                seq_num += 1"
      ],
      "metadata": {
        "id": "heVwoDqzJa63",
        "outputId": "6eabb04f-f2c1-46fa-b355-27b13c2b6bc0",
        "colab": {
          "base_uri": "https://localhost:8080/"
        }
      },
      "execution_count": null,
      "outputs": [
        {
          "output_type": "stream",
          "name": "stdout",
          "text": [
            "Looking in indexes: https://pypi.org/simple, https://us-python.pkg.dev/colab-wheels/public/simple/\n",
            "Collecting biopython\n",
            "  Downloading biopython-1.81-cp39-cp39-manylinux_2_17_x86_64.manylinux2014_x86_64.whl (3.1 MB)\n",
            "\u001b[2K     \u001b[90m━━━━━━━━━━━━━━━━━━━━━━━━━━━━━━━━━━━━━━━━\u001b[0m \u001b[32m3.1/3.1 MB\u001b[0m \u001b[31m42.1 MB/s\u001b[0m eta \u001b[36m0:00:00\u001b[0m\n",
            "\u001b[?25hRequirement already satisfied: numpy in /usr/local/lib/python3.9/dist-packages (from biopython) (1.22.4)\n",
            "Installing collected packages: biopython\n",
            "Successfully installed biopython-1.81\n"
          ]
        },
        {
          "output_type": "stream",
          "name": "stderr",
          "text": [
            "/usr/local/lib/python3.9/dist-packages/Bio/Seq.py:2804: BiopythonWarning: Partial codon, len(sequence) not a multiple of three. Explicitly trim the sequence or add trailing N before translation. This may become an error in future.\n",
            "  warnings.warn(\n"
          ]
        }
      ]
    }
  ],
  "metadata": {
    "colab": {
      "toc_visible": true,
      "provenance": [],
      "include_colab_link": true
    },
    "kernelspec": {
      "display_name": "Python 3",
      "name": "python3"
    }
  },
  "nbformat": 4,
  "nbformat_minor": 0
}