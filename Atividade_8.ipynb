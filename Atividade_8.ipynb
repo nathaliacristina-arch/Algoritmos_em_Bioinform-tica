{
  "cells": [
    {
      "cell_type": "markdown",
      "metadata": {
        "id": "view-in-github",
        "colab_type": "text"
      },
      "source": [
        "<a href=\"https://colab.research.google.com/github/nathaliacristina-arch/Algoritmos_em_Bioinform-tica/blob/main/Atividade_8.ipynb\" target=\"_parent\"><img src=\"https://colab.research.google.com/assets/colab-badge.svg\" alt=\"Open In Colab\"/></a>"
      ]
    },
    {
      "cell_type": "code",
      "source": [
        "# Parte 1 - Faça o código e gere a matriz de programação dinâmica do problema da Mochila 0/1\n",
        "\n",
        "# Problema da Mochila:\n",
        "\n",
        "# Wmax = 13 kg (máxima carga da Mochila)\n",
        "\n",
        "# item i \tValor V ($)\tPeso w (kg)\n",
        "# 1\t5,00\t5\n",
        "# 2\t4,00\t6\n",
        "# 3\t7,00\t8\n",
        "# 4\t7,00\t4\n",
        "\n",
        "# Mochila\n",
        "\n",
        "\n",
        "# Parte 2 - Ache a solução do problema da mochila. Submeta código e solução.\n"
      ],
      "metadata": {
        "id": "dUxEYMqaZv5N"
      },
      "execution_count": null,
      "outputs": []
    },
    {
      "cell_type": "code",
      "source": [
        "\n",
        "def knapsack_01(values, weights, max_weight):\n",
        "    n = len(values)\n",
        "    dp = [[0] * (max_weight + 1) for _ in range(n + 1)]\n",
        "\n",
        "    for i in range(1, n + 1):\n",
        "        for w in range(1, max_weight + 1):\n",
        "            if weights[i - 1] <= w:\n",
        "                dp[i][w] = max(values[i - 1] + dp[i - 1][w - weights[i - 1]], dp[i - 1][w])\n",
        "            else:\n",
        "                dp[i][w] = dp[i - 1][w]\n",
        "\n",
        "    return dp[n][max_weight]\n",
        "\n",
        "# Dados do problema\n",
        "values = [5, 4, 7, 7]\n",
        "weights = [5, 6, 8, 4]\n",
        "max_weight = 13\n",
        "\n",
        "max_value = knapsack_01(values, weights, max_weight)\n",
        "print(\"Valor máximo que pode ser obtido:\", max_value) #valor máximo alcançado ao selecionar um conjunto de itens cuja soma dos pesos não exceda 13 kg"
      ],
      "metadata": {
        "id": "0EPFSplWYuSw",
        "outputId": "afecf27d-04ce-4b59-dbf0-b209dfc97aff",
        "colab": {
          "base_uri": "https://localhost:8080/"
        }
      },
      "execution_count": 4,
      "outputs": [
        {
          "output_type": "stream",
          "name": "stdout",
          "text": [
            "Valor máximo que pode ser obtido: 14\n"
          ]
        }
      ]
    }
  ],
  "metadata": {
    "colab": {
      "name": "Olá, este é o Colaboratory",
      "toc_visible": true,
      "provenance": [],
      "include_colab_link": true
    },
    "kernelspec": {
      "display_name": "Python 3",
      "name": "python3"
    }
  },
  "nbformat": 4,
  "nbformat_minor": 0
}